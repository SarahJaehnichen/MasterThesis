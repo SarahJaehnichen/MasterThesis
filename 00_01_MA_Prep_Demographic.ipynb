{
  "cells": [
    {
      "cell_type": "markdown",
      "metadata": {
        "id": "view-in-github",
        "colab_type": "text"
      },
      "source": [
        "<a href=\"https://colab.research.google.com/github/SarahJaehnichen/MasterThesis/blob/main/00_01_MA_Prep_Demographic.ipynb\" target=\"_parent\"><img src=\"https://colab.research.google.com/assets/colab-badge.svg\" alt=\"Open In Colab\"/></a>"
      ]
    },
    {
      "cell_type": "markdown",
      "metadata": {
        "id": "kUyboulRVxUH"
      },
      "source": [
        "# **Master's Thesis Analysis Part 1**"
      ]
    },
    {
      "cell_type": "markdown",
      "metadata": {
        "id": "Jg-9ZQAfjIKd"
      },
      "source": [
        "# Import Packages"
      ]
    },
    {
      "cell_type": "code",
      "execution_count": 20,
      "metadata": {
        "id": "Hpj7jAH2etfE"
      },
      "outputs": [],
      "source": [
        "import pandas as pd\n",
        "import numpy as np\n",
        "import matplotlib.pyplot as plt\n",
        "import seaborn as sns\n",
        "from scipy.io import loadmat\n",
        "from scipy.io import savemat"
      ]
    },
    {
      "cell_type": "markdown",
      "metadata": {
        "id": "XY-dVW72jUsD"
      },
      "source": [
        "# Read data"
      ]
    },
    {
      "cell_type": "code",
      "execution_count": 21,
      "metadata": {
        "id": "3KwKnmtsc8qj"
      },
      "outputs": [],
      "source": [
        "# ===================================================================\n",
        "# Reads csv files containing experimental and participant data of AAT\n",
        "# ===================================================================\n",
        "df_part = pd.read_csv('participant_info.csv')\n",
        "df_bo = pd.read_csv('blockOrder.csv')\n",
        "df_cseq = pd.read_csv('congTrialsPS.csv', header = None)\n",
        "df_iseq = pd.read_csv('incongTrialsPS.csv', header = None)\n",
        "df_crt = pd.read_csv('congTrialsRT.csv', header = None)\n",
        "df_irt = pd.read_csv('incongTrialsRT.csv', header = None)\n",
        "df_cerrseq = pd.read_csv('congTrialsEP.csv', header = None)\n",
        "df_ierrseq = pd.read_csv('incongTrialsEP.csv', header = None)\n",
        "\n",
        "# =============================================================\n",
        "# Reads .mat file containing survey rating and participant data\n",
        "# =============================================================\n",
        "mat = loadmat('allParticipants.mat')"
      ]
    },
    {
      "cell_type": "markdown",
      "metadata": {
        "id": "OdRYMuFHjBcO"
      },
      "source": [
        "# Functions"
      ]
    },
    {
      "cell_type": "code",
      "execution_count": 22,
      "metadata": {
        "id": "nK9Fp8kchncf"
      },
      "outputs": [],
      "source": [
        "# Concatenates every 2nd column to the previous one\n",
        "def unifyPart(df):\n",
        "\n",
        "  # Find out number of rows. Set twice the number as the new number of rows.\n",
        "  num_rows = df.shape[0]\n",
        "  new_num_rows = num_rows * 2\n",
        "\n",
        "  # Create new DataFrame with twice the number of rows and half the number of\n",
        "  # columns. Add every second column below the previous one. Return changed\n",
        "  # DataFrame.\n",
        "  new_data = {}\n",
        "  for i in range(0, df.shape[1], 2):\n",
        "      col1 = df.iloc[:, i]\n",
        "      col2 = df.iloc[:, i + 1]\n",
        "      new_col = pd.concat([col1, col2]).reset_index(drop=True)\n",
        "      new_data[f'{i//2}'] = new_col\n",
        "      new_df = pd.DataFrame(new_data)\n",
        "  return new_df"
      ]
    },
    {
      "cell_type": "markdown",
      "source": [
        "# Preprocessing"
      ],
      "metadata": {
        "id": "sgUmOj-pg27a"
      }
    },
    {
      "cell_type": "markdown",
      "source": [
        "## AAT\n",
        "\n",
        "Output:\n",
        "\n",
        "\n",
        "*   aat_info: relevant participant information\n",
        "*   aat_data: relevant experimental data from AAT"
      ],
      "metadata": {
        "id": "bd0gkJGubdet"
      }
    },
    {
      "cell_type": "code",
      "source": [
        "# ================================================================\n",
        "# Create DataFrame containing all relevant participant information\n",
        "# ================================================================\n",
        "\n",
        "# DataFrame simplified by including only relevant variables\n",
        "aat_info = df_part.filter(items=['Participants', 'Gender', 'Handedness',\n",
        "                                'Educational level', 'Age',\n",
        "                                 'Good command English', 'Occupation'])\n",
        "# Participants excluded that did not meet the inclusion criteria, i.e., they did\n",
        "# either not fit one of the investigated gender categories or did not complete\n",
        "# the full experiment\n",
        "aat_info = aat_info.drop([9-1, 26-1, 33-1, 39-1, 41-1, 54-1, 6-1])\n",
        "\n",
        "# Gender code is replaced with gender category labels.\n",
        "aat_info['Gender'] = aat_info['Gender'].map({0: 'male', 1: 'female'}) \\\n",
        "                                       .astype('category')\n",
        "\n",
        "# Column renamed for consistency.\n",
        "aat_info = aat_info.rename(columns={'Participants': 'Participant'})\n",
        "\n",
        "# Index reset and new id for valid participants\n",
        "aat_info = aat_info.reset_index(drop=True)\n",
        "aat_info['Participant'] = aat_info.index\n",
        "\n",
        "\n",
        "# =================================================================\n",
        "# Create DataFrame containing all relevant experimental information\n",
        "# =================================================================\n",
        "\n",
        "# Delete experimental data of participant that did not fit one of the\n",
        "# investigated gender categories\n",
        "cseq = df_cseq.drop(columns=[10,11])\n",
        "iseq = df_iseq.drop(columns=[10,11])\n",
        "crt = df_crt.drop(columns=[10,11])\n",
        "irt = df_irt.drop(columns=[10,11])\n",
        "cerrseq = df_cerrseq.drop(columns=[10,11])\n",
        "ierrseq = df_ierrseq.drop(columns=[10,11])\n",
        "\n",
        "# connect the two trials of the same condition for each participant into one\n",
        "# column for each DataFrame\n",
        "cseq = unifyPart(cseq)\n",
        "iseq = unifyPart(iseq)\n",
        "crt = unifyPart(crt)\n",
        "irt = unifyPart(irt)\n",
        "cerrseq = unifyPart(cerrseq)\n",
        "ierrseq = unifyPart(ierrseq)\n",
        "\n",
        "# Convert reaction times to float values for subsequent processing\n",
        "crt = crt.replace(',', '.', regex=True)\n",
        "irt = irt.replace(',', '.', regex=True)\n",
        "crt = crt.astype(float)\n",
        "irt = irt.astype(float)\n",
        "\n",
        "# Melt DataFrames containing reaction times and picture numbers to have them\n",
        "# each in one column with the participant being specidied in a separate column\n",
        "crt = crt.melt(var_name='Participant', value_name='RT')\n",
        "irt = irt.melt(var_name='Participant', value_name='RT')\n",
        "cseq = cseq.melt(var_name='Participant', value_name='Picture')\n",
        "iseq = iseq.melt(var_name='Participant', value_name='Picture')\n",
        "\n",
        "# For congruent and incongruent experimental data, reaction times and picture\n",
        "# numbers are merged into one DataFrame\n",
        "con = pd.merge(cseq, crt, left_index=True, right_index=True, how=\"inner\")\n",
        "incon = pd.merge(iseq, irt, left_index=True, right_index=True, how=\"inner\")\n",
        "\n",
        "# The condition is specified in the DataFrame such that this information remains\n",
        "# available after subsequent concatenation of DataFrames\n",
        "con['Condition'] = 'congruent'\n",
        "incon['Condition'] = 'incongruent'\n",
        "\n",
        "# Congruent and incongruent data is integrated in one DataFrame\n",
        "aat_data = pd.concat([con, incon], ignore_index=True)\n",
        "\n",
        "# DataFrame is adapted regarding naming of columns and non-necessity of columns\n",
        "aat_data = aat_data.rename(columns={'Participant_x': 'Participant'})\n",
        "aat_data = aat_data.drop(columns=['Participant_y'])\n",
        "\n",
        "# Valence information is added based on picture ID. Before doing that, the data\n",
        "# type of 'Participant' is adapted to enable processing\n",
        "aat_data['Participant'] = aat_data['Participant'].astype('int64')\n",
        "aat_data['Valence'] = aat_data['Picture']\\\n",
        "                      .apply(lambda x: 'positive' if x <= 44 else 'negative')\n",
        "\n",
        "# Gender of participants is added to the trial data\n",
        "aat_data = pd.merge(aat_data, aat_info[['Participant', 'Gender']], \\\n",
        "                    on='Participant', how='left')\n",
        "\n",
        "# For analysis, log reaction times are added to the DataFrame\n",
        "aat_data['LogRT'] = np.log10(aat_data['RT'])\n",
        "\n",
        "# Data types are adapted for further processing\n",
        "aat_data['Participant'] = aat_data['Participant'].astype('category')\n",
        "aat_data['Picture'] = aat_data['Picture'].astype('Int64')\n",
        "aat_data['Picture'] = aat_data['Picture'].astype('category')\n",
        "aat_data['Condition'] = aat_data['Condition'].astype('category')\n",
        "aat_data['Valence'] = aat_data['Valence'].astype('category')\n",
        "\n",
        "# Change order of columns for convenience\n",
        "cols = ['Participant', 'Gender', 'Picture', 'Valence', 'Condition']\n",
        "rest = [col for col in aat_data.columns if col not in cols]\n",
        "aat_data = aat_data[cols + rest]\n",
        "\n",
        "# Delete all rows with NaNs ()\n",
        "aat_data = aat_data.dropna()\n",
        "\n",
        "# export aat_data to csv for further analysis in Matlab\n",
        "aat_data.to_csv('aat_data.csv', index=False)\n",
        "savemat('aat_data.mat', {'aat': aat_data.to_dict(\"list\")})"
      ],
      "metadata": {
        "id": "yYZb3C9Obfg6"
      },
      "execution_count": 23,
      "outputs": []
    },
    {
      "cell_type": "markdown",
      "source": [
        "## Survey Data\n",
        "\n",
        "Output:\n",
        "\n",
        "\n",
        "*   survey_info: Dataframe containing all relevant participant information (Age, Gender, Education, Occupation, Previous Participation in AAT)\n",
        "*   survey_data: Dataframe containing relevant data for all complete reponses to survey trials (Participant and their Gender, Picture Number and Valence, Pleasure, Arousal and Dominance Ratings)"
      ],
      "metadata": {
        "id": "TYE6poHuFTvl"
      }
    },
    {
      "cell_type": "code",
      "execution_count": 24,
      "metadata": {
        "id": "VXuakVoosxZv"
      },
      "outputs": [],
      "source": [
        "# ===========================================================\n",
        "# Extraction and conversion of data for further preprocessing\n",
        "# ===========================================================\n",
        "\n",
        "# Extract the survey data from mat\n",
        "data_survey = mat['DATA'][0,0]\n",
        "\n",
        "# Convert data for subsequent processing:\n",
        "# Check if 'data_survey' has method 'tolist', then convert data into a list\n",
        "data_survey = data_survey.tolist() if hasattr(data_survey, 'tolist') \\\n",
        "              else data_survey\n",
        "\n",
        "# Create a dictionary to hold DataFrames for each array of data_survey.\n",
        "# The dictionary has the keys 'array_0', 'array_1', ..., 'array_20'.\n",
        "# Each dataframe in the dictionary contains data for one investigated variable\n",
        "# for all participants.\n",
        "dict = {}\n",
        "if isinstance(data_survey, tuple):\n",
        "    for i, item in enumerate(data_survey):\n",
        "        if isinstance(item, np.ndarray):\n",
        "            dict[f'array_{i}'] = pd.DataFrame(item)\n",
        "\n",
        "# =================================\n",
        "# Preprocessing of participant data\n",
        "# =================================\n",
        "\n",
        "# Identified dataframes in the dictionary containing participant information are\n",
        "# stored separately and melted to have one column covering the specific data for\n",
        "# all participants (60 rows given 60 participants)\n",
        "survey_age = dict['array_0'].melt(value_name='Age')\n",
        "survey_gender = dict['array_1'].melt(value_name='Gender')\n",
        "survey_education = dict['array_2'].melt(value_name='Education')\n",
        "survey_occupation = dict['array_3'].melt(value_name='Occupation')\n",
        "survey_AATpart = dict['array_4'].melt(value_name='AAT_Participation')\n",
        "\n",
        "# Participant data (Age, Gender, Education, Occupation, Previous Participation\n",
        "# in AAT) is concatenated into one organized DataFrame\n",
        "survey_info = pd.concat([survey_age, survey_gender, survey_education, \\\n",
        "                         survey_occupation, survey_AATpart], axis=1)\n",
        "# Columns are specified\n",
        "survey_info = survey_info[['Age', 'Gender', 'Education', 'Occupation', \\\n",
        "                           'AAT_Participation']]\n",
        "# Convert all entries to strings in order to then remove parantheses and\n",
        "# quotation marks\n",
        "survey_info = survey_info.map(str)\n",
        "survey_info = survey_info.map(lambda x: x.replace('[', '').replace(']', '')\\\n",
        "                              .replace(\"'\", ''))\n",
        "# Age Column is converted to int for subsequent processing\n",
        "survey_info['Age'] = pd.to_numeric(survey_info['Age'], errors='coerce')\n",
        "\n",
        "# Participants fitting one of the investigated gender categories are included\n",
        "# (one participant needed to be excluded)\n",
        "survey_info = survey_info[survey_info['Gender'] != 'Other']\n",
        "\n",
        "# =========================================\n",
        "# Preprocessing of experimental survey data\n",
        "# =========================================\n",
        "\n",
        "# Identified dataframes in the dictionary containing SAM ratings (Pleasure,\n",
        "# Arousal, Dominance) of participants and picture numbers for each trial are\n",
        "# stored separately\n",
        "pleasure = dict['array_13']\n",
        "arousal = dict['array_15']\n",
        "dominance = dict['array_17']\n",
        "picNum = dict['array_20']\n",
        "\n",
        "# Only picture numbers of experimental trials and experimental data for each\n",
        "# rating scale is included (trial data is left out)\n",
        "pleasure = pleasure.iloc[12:100]\n",
        "arousal = arousal.iloc[12:100]\n",
        "dominance = dominance.iloc[12:100]\n",
        "picNum = picNum.iloc[12:100]\n",
        "\n",
        "# Picture number entries (source path and name of file) are converted to string\n",
        "# in order to delete all parts of the entry that are not relevant for picture\n",
        "# identification. Only picture number is left that is converted to int for\n",
        "# further processing.\n",
        "picNum = picNum.map(lambda x: str(x))\n",
        "picNum = picNum.map(lambda x: x.replace(\"['images_main_exp/image_\", '')\\\n",
        "                    .replace(\".jpg']\", ''))\n",
        "picNum = picNum.map(lambda x: int(x))\n",
        "\n",
        "# Picture valences for each trial are identified. Pictures with number 1-44 are\n",
        "# classified as pleasant stimuli and pictures with number 45-88 as unpleasant.\n",
        "picVal = picNum.map(lambda x: 'positive' if x <= 44 else 'negative')\n",
        "\n",
        "# Dataframes for rating data and picture numbers and valence for each trial for\n",
        "# each participant are melted (such that each dataframe stores ratings or\n",
        "# picture number/ valence for all trials in one column, and participant number\n",
        "# for each trial is specified in a separate column)\n",
        "pleasure = pleasure.melt(var_name='Participant', value_name='Pleasure')\n",
        "arousal = arousal.melt(var_name='Participant', value_name='Arousal')\n",
        "dominance = dominance.melt(var_name='Participant', value_name='Dominance')\n",
        "picNum = picNum.melt(var_name='Participant', value_name='Picture')\n",
        "picVal = picVal.melt(var_name='Participant', value_name='Valence')\n",
        "\n",
        "# Experimental data for all trials (Participants, Picture Number, Picture\n",
        "# Valence, Pleasure, Arousal and Dominance Ratings of Participants) is\n",
        "# concatenated into one organized DataFrame\n",
        "survey_data = pd.concat([picNum['Participant'],\n",
        "                         picNum['Picture'],\n",
        "                         picVal['Valence'],\n",
        "                         pleasure['Pleasure'],\n",
        "                         arousal['Arousal'],\n",
        "                         dominance['Dominance']], axis=1)\n",
        "\n",
        "# From the participant information DataFrame (survey_info), Gender information\n",
        "# is added to DataFrame with experimental data (survey_data)\n",
        "participants = pd.DataFrame({\n",
        "    'Participant': survey_info.index,\n",
        "    'Gender': survey_info['Gender'],\n",
        "})\n",
        "survey_data = survey_data.merge(participants, on='Participant', how='left')\n",
        "\n",
        "# Non-valid trials, such as trials of participants with no gender entry or\n",
        "# trials with missing ratings, are deleted\n",
        "survey_data = survey_data.dropna()\n",
        "\n",
        "# Change Gender category words to lowercase for consistency\n",
        "survey_data['Gender'] = survey_data['Gender'].str.lower()\n",
        "\n",
        "# Data types are adapted for subsequent processing\n",
        "survey_data['Valence'] = survey_data['Valence'].astype('category')\n",
        "survey_data['Gender'] = survey_data['Gender'].astype('category')\n",
        "survey_data['Picture'] = survey_data['Picture'].astype('category')\n",
        "survey_data['Participant'] = survey_data['Participant'].astype('category')\n",
        "\n",
        "# Since an inverted version of Pleasure and Arousal ratings was used in the SAM\n",
        "# survey, these values are re-converted\n",
        "survey_data['Pleasure'] = 10 - survey_data['Pleasure']\n",
        "survey_data['Arousal'] = 10 - survey_data['Arousal']\n",
        "\n",
        "# Change order of columns for convenience\n",
        "cols = ['Participant', 'Gender', 'Picture', 'Valence']\n",
        "rest = [col for col in survey_data.columns if col not in cols]\n",
        "survey_data = survey_data[cols + rest]\n",
        "\n",
        "# export survey_data to csv for further analysis in Matlab\n",
        "survey_data.to_csv('survey_data.csv', index=False)\n",
        "savemat('survey_data.mat', {'sam': survey_data.to_dict(\"list\")})"
      ]
    },
    {
      "cell_type": "markdown",
      "source": [
        "## AAT and Survey Data\n",
        "Output:\n",
        "\n",
        "\n",
        "*   picture_data: mean affective ratings and (Log) RTs overall and by gender (and by condition for RTs) characterizing individual picture stimuli\n",
        "*   all_data: AAT data complemented with picture characteristics from picture_data\n",
        "\n"
      ],
      "metadata": {
        "id": "sTsUXOLE0Ym9"
      }
    },
    {
      "cell_type": "code",
      "source": [
        "# ===============================================\n",
        "# Create overview over mean data for each picture\n",
        "# ===============================================\n",
        "\n",
        "# Use AAT and survey data from previous pre-processing\n",
        "aat = aat_data\n",
        "survey = survey_data\n",
        "\n",
        "# Assign mean rating values to each picture (overall and by gender)\n",
        "picture_data_survey = survey.groupby('Picture').agg(\n",
        "    Valence=('Valence', 'first'),\n",
        "    pleasure_mean=('Pleasure', 'mean'),\n",
        "    arousal_mean=('Arousal', 'mean'),\n",
        "    dominance_mean=('Dominance', 'mean'),\n",
        "    pleasure_mean_female=('Pleasure', lambda x: x[survey['Gender'] == 'female']\\\n",
        "                          .mean()),\n",
        "    arousal_mean_female=('Arousal', lambda x: x[survey['Gender'] == 'female']\\\n",
        "                         .mean()),\n",
        "    dominance_mean_female=('Dominance', lambda x: x[survey['Gender'] == \\\n",
        "                           'female'].mean()),\n",
        "    pleasure_mean_male=('Pleasure', lambda x: x[survey['Gender'] == 'male']\\\n",
        "                        .mean()),\n",
        "    arousal_mean_male=('Arousal', lambda x: x[survey['Gender'] == 'male']\\\n",
        "                       .mean()),\n",
        "    dominance_mean_male=('Dominance', lambda x: x[survey['Gender'] == 'male']\\\n",
        "                         .mean())\n",
        ").reset_index()\n",
        "\n",
        "# Assign mean reaction times to each picture (overall, by gender, by condition\n",
        "# and by gender and condition)\n",
        "picture_data_aat = aat.groupby('Picture').agg(\n",
        "    Valence=('Valence', 'first'),  # Für Valence nehmen wir den ersten\n",
        "    RT_mean=('RT', 'mean'),\n",
        "    LogRT_mean=('LogRT', 'mean'),\n",
        "    RT_mean_female=('RT', lambda x: x[aat['Gender'] == 'female'].mean()),\n",
        "    LogRT_mean_female=('LogRT', lambda x: x[aat['Gender'] == 'female'].mean()),\n",
        "    RT_mean_male=('RT', lambda x: x[aat['Gender'] == 'male'].mean()),\n",
        "    LogRT_mean_male=('LogRT', lambda x: x[aat['Gender'] == 'male'].mean()),\n",
        "    RT_mean_con=('RT', lambda x: x[aat['Condition'] == 'congruent'].mean()),\n",
        "    LogRT_mean_con=('LogRT', lambda x: x[aat['Condition'] == 'congruent']\\\n",
        "                    .mean()),\n",
        "    RT_mean_incon=('RT', lambda x: x[aat['Condition'] == 'incongruent'].mean()),\n",
        "    LogRT_mean_incon=('LogRT', lambda x: x[aat['Condition'] == 'incongruent']\\\n",
        "                      .mean()),\n",
        "    RT_mean_con_female=('RT', lambda x: x[(aat['Condition'] == 'congruent') & \\\n",
        "                        (aat['Gender'] == 'female')].mean()),\n",
        "    LogRT_mean_con_female=('LogRT', lambda x: x[(aat['Condition'] == \\\n",
        "                           'congruent') & (aat['Gender'] == 'female')].mean()),\n",
        "    RT_mean_incon_female= ('RT', lambda x: x[(aat['Condition'] == 'incongruent') \\\n",
        "                           & (aat['Gender'] == 'female')].mean()),\n",
        "    LogRT_mean_incon_female=('LogRT', lambda x: x[(aat['Condition'] == \\\n",
        "                             'incongruent') & (aat['Gender'] == 'female')]\\\n",
        "                             .mean()),\n",
        "    RT_mean_con_male=('RT', lambda x: x[(aat['Condition'] == 'congruent') & \\\n",
        "                      (aat['Gender'] == 'male')].mean()),\n",
        "    LogRT_mean_con_male=('LogRT', lambda x: x[(aat['Condition'] == 'congruent') \\\n",
        "                         & (aat['Gender'] == 'male')].mean()),\n",
        "    RT_mean_incon_male=('RT', lambda x: x[(aat['Condition'] == 'incongruent') & \\\n",
        "                       (aat['Gender'] == 'male')].mean()),\n",
        "    LogRT_mean_incon_male=('LogRT', lambda x: x[(aat['Condition'] == \\\n",
        "                           'incongruent') & (aat['Gender'] == 'male')].mean())\n",
        ").reset_index()\n",
        "\n",
        "# Merge picture data, rename one column and delete one unnecessary column\n",
        "picture_data = picture_data_survey.merge(picture_data_aat, on='Picture', \\\n",
        "                                         how='left')\n",
        "picture_data = picture_data.rename(columns={'Valence_x': 'Valence'})\n",
        "picture_data = picture_data.drop(columns=['Valence_y'])\n",
        "\n",
        "# export picture_data to csv for further analysis in Matlab\n",
        "picture_data.to_csv('picture_data.csv', index=False)\n",
        "savemat('picture_data.mat', {'pic': picture_data.to_dict(\"list\")})\n",
        "\n",
        "# ========================================================\n",
        "# Add picture mean RT and rating data to each trial in AAT\n",
        "# ========================================================\n",
        "\n",
        "# drop duplicate column and add picture data to aat data\n",
        "all_data = aat_data.drop(columns=['Valence'])\n",
        "all_data = all_data.merge(picture_data, on='Picture', how='left')\n",
        "\n",
        "# Change order of columns for convenience\n",
        "cols = ['Participant', 'Gender', 'Picture', 'Valence', 'Condition']\n",
        "rest = [col for col in all_data.columns if col not in cols]\n",
        "all_data = all_data[cols + rest]\n",
        "\n",
        "# export all_data to csv for further analysis in Matlab\n",
        "all_data.to_csv('all_data.csv', index=False)\n",
        "savemat('all_data.mat', {'all': all_data.to_dict(\"list\")})"
      ],
      "metadata": {
        "colab": {
          "base_uri": "https://localhost:8080/"
        },
        "id": "DInxdo5i0dOW",
        "outputId": "1d706d5e-23f5-49e8-e4d9-93c3fc248ba8"
      },
      "execution_count": 34,
      "outputs": [
        {
          "output_type": "stream",
          "name": "stderr",
          "text": [
            "/tmp/ipython-input-34-3487371011.py:10: FutureWarning: The default of observed=False is deprecated and will be changed to True in a future version of pandas. Pass observed=False to retain current behavior or observed=True to adopt the future default and silence this warning.\n",
            "  picture_data_survey = survey.groupby('Picture').agg(\n",
            "/tmp/ipython-input-34-3487371011.py:31: FutureWarning: The default of observed=False is deprecated and will be changed to True in a future version of pandas. Pass observed=False to retain current behavior or observed=True to adopt the future default and silence this warning.\n",
            "  picture_data_aat = aat.groupby('Picture').agg(\n"
          ]
        }
      ]
    },
    {
      "cell_type": "markdown",
      "source": [
        "# Demographic Analysis\n"
      ],
      "metadata": {
        "id": "HSpGm1hvCKlN"
      }
    },
    {
      "cell_type": "markdown",
      "source": [
        "## AAT\n",
        "\n",
        "Output: Demographic description of all participants that met the inclusion criterion (matching one of the investigated gender categories and completing full experiment)"
      ],
      "metadata": {
        "id": "G6s6x3b3JXMP"
      }
    },
    {
      "cell_type": "code",
      "source": [
        "# Age\n",
        "average_age = aat_info['Age'].mean()\n",
        "std_age = aat_info['Age'].std()\n",
        "print(f\"Average Age: {average_age:.1f}\")\n",
        "print(f\"STD: {std_age:.1f}\")\n",
        "print()\n",
        "\n",
        "# Gender distribution\n",
        "gender_counts = aat_info['Gender'].value_counts()\n",
        "print(gender_counts)\n",
        "print('One \"Other\" excluded from Analysis')\n",
        "print()\n",
        "\n",
        "# Occupational Background\n",
        "occupation_counts = aat_info['Occupation'].value_counts()\n",
        "print(occupation_counts)\n",
        "print('0 - student, 1 - working, 2 - both')\n",
        "print()\n",
        "\n",
        "# Academic Background\n",
        "education_counts = aat_info['Educational level'].value_counts()\n",
        "print(education_counts)\n",
        "print('0 - Abitur, 1 - Bachelor, 2 - Master')\n",
        "print()\n",
        "\n",
        "# English Skills\n",
        "english_counts = aat_info['Good command English'].value_counts()\n",
        "print(english_counts)\n",
        "print('1 - yes')\n",
        "print()\n",
        "\n",
        "# Handedness\n",
        "hand_counts = aat_info['Handedness'].value_counts()\n",
        "print(hand_counts)\n",
        "print('0 - left, 1 - right')"
      ],
      "metadata": {
        "colab": {
          "base_uri": "https://localhost:8080/"
        },
        "id": "XpN8qEiEJT3S",
        "outputId": "0d9a36ed-dcc0-4bb7-a52e-3694a5ac6851"
      },
      "execution_count": 36,
      "outputs": [
        {
          "output_type": "stream",
          "name": "stdout",
          "text": [
            "Average Age: 23.2\n",
            "STD: 3.4\n",
            "\n",
            "Gender\n",
            "female    30\n",
            "male      30\n",
            "Name: count, dtype: int64\n",
            "One \"Other\" excluded from Analysis\n",
            "\n",
            "Occupation\n",
            "0    51\n",
            "2     7\n",
            "1     2\n",
            "Name: count, dtype: int64\n",
            "0 - student, 1 - working, 2 - both\n",
            "\n",
            "Educational level\n",
            "0    51\n",
            "2     6\n",
            "1     3\n",
            "Name: count, dtype: int64\n",
            "0 - Abitur, 1 - Bachelor, 2 - Master\n",
            "\n",
            "Good command English\n",
            "1    60\n",
            "Name: count, dtype: int64\n",
            "1 - yes\n",
            "\n",
            "Handedness\n",
            "1    54\n",
            "0     6\n",
            "Name: count, dtype: int64\n",
            "0 - left, 1 - right\n"
          ]
        }
      ]
    },
    {
      "cell_type": "markdown",
      "source": [
        "## Survey\n",
        "\n",
        "Output: Demographic description of all participants that met the inclusion criterion (matching one of the investigated gender categories)"
      ],
      "metadata": {
        "id": "DS_DOVCSEzRn"
      }
    },
    {
      "cell_type": "code",
      "execution_count": 28,
      "metadata": {
        "colab": {
          "base_uri": "https://localhost:8080/"
        },
        "id": "0OObLeQWGv-Y",
        "outputId": "1f06c72d-61d8-4a59-9caf-3661dda89596"
      },
      "outputs": [
        {
          "output_type": "stream",
          "name": "stdout",
          "text": [
            "Average Age: 24.1\n",
            "STD: 4.1\n",
            "\n",
            "Gender\n",
            "Female    32\n",
            "Male      27\n",
            "Name: count, dtype: int64\n",
            "One \"Other\" excluded from Analysis\n",
            "\n",
            "AAT_Participation\n",
            "Yes    30\n",
            "No     29\n",
            "Name: count, dtype: int64\n",
            "\n",
            "Occupation\n",
            "Student    48\n",
            "Working     7\n",
            "Both        4\n",
            "Name: count, dtype: int64\n",
            "\n",
            "Education\n",
            "Abitur (or equivalent)                 41\n",
            "Bachelor                               10\n",
            "Master                                  5\n",
            "PhD                                     2\n",
            "Hauptschulabschluss (or equivalent)     1\n",
            "Name: count, dtype: int64\n",
            "\n"
          ]
        }
      ],
      "source": [
        "# 1. Age\n",
        "average_age = survey_info['Age'].mean()\n",
        "std_age = survey_info['Age'].std()\n",
        "print(f\"Average Age: {average_age:.1f}\")\n",
        "print(f\"STD: {std_age:.1f}\")\n",
        "print()\n",
        "\n",
        "# 2. Gender distribution\n",
        "gender_counts = survey_info['Gender'].value_counts()\n",
        "print(gender_counts)\n",
        "print('One \"Other\" excluded from Analysis')\n",
        "print()\n",
        "\n",
        "# 3. Previous Participation in AAT\n",
        "participation_counts = survey_info['AAT_Participation'].value_counts()\n",
        "print(participation_counts)\n",
        "print()\n",
        "\n",
        "# 4. Occupational Background\n",
        "occupation_counts = survey_info['Occupation'].value_counts()\n",
        "print(occupation_counts)\n",
        "print()\n",
        "\n",
        "# 5. Academic Background\n",
        "education_counts = survey_info['Education'].value_counts()\n",
        "print(education_counts)\n",
        "print()"
      ]
    },
    {
      "cell_type": "markdown",
      "source": [
        "# Interaction plots: AAT Log RTs by Gender and Valence, and Gender and Condition"
      ],
      "metadata": {
        "id": "eshqC40WO1D7"
      }
    },
    {
      "cell_type": "code",
      "source": [
        "# Define color palette (identical to the one used in Matlab)\n",
        "maleColor = \"#009900\"\n",
        "femaleColor = \"#FF8000\"\n",
        "\n",
        "# Interaction plot: Log RTs by gender and valence\n",
        "plt.figure(figsize=(6,4))\n",
        "sns.pointplot(\n",
        "    data=aat_data,\n",
        "    x='Valence',\n",
        "    y='LogRT',\n",
        "    hue='Gender',\n",
        "    errorbar='ci',\n",
        "    markers=[\"o\", \"s\"],\n",
        "    linestyles=[\"-\", \"-\"],\n",
        "    palette={\"male\": maleColor, \"female\": femaleColor}\n",
        ")\n",
        "plt.title('Reaction Times by Gender and Valence')\n",
        "plt.gca().set_xticklabels(['unpleasant', 'pleasant'])\n",
        "plt.xlabel('Valence')\n",
        "plt.ylabel('Log Reaction Time')\n",
        "plt.grid(True)\n",
        "plt.tight_layout()\n",
        "plt.show()\n",
        "\n",
        "# Interaction plot: Log RTs by gender and condition\n",
        "plt.figure(figsize=(6,4))\n",
        "sns.pointplot(\n",
        "    data=aat_data,\n",
        "    x='Condition',\n",
        "    y='LogRT',\n",
        "    hue='Gender',\n",
        "    errorbar='ci',\n",
        "    markers=[\"o\", \"s\"],\n",
        "    linestyles=[\"-\", \"-\"],\n",
        "    palette={\"male\": maleColor, \"female\": femaleColor}\n",
        ")\n",
        "plt.title('Reaction Times by Gender and Condition')\n",
        "plt.xlabel('Condition')\n",
        "plt.ylabel('Log Reaction Time')\n",
        "plt.grid(True)\n",
        "plt.show()"
      ],
      "metadata": {
        "colab": {
          "base_uri": "https://localhost:8080/",
          "height": 835
        },
        "id": "01H5jlaXMc72",
        "outputId": "e8e429cd-e3a7-4c4e-804e-54b304966269"
      },
      "execution_count": 37,
      "outputs": [
        {
          "output_type": "stream",
          "name": "stderr",
          "text": [
            "/tmp/ipython-input-37-399989172.py:18: UserWarning: set_ticklabels() should only be used with a fixed number of ticks, i.e. after set_ticks() or using a FixedLocator.\n",
            "  plt.gca().set_xticklabels(['unpleasant', 'pleasant'])\n"
          ]
        },
        {
          "output_type": "display_data",
          "data": {
            "text/plain": [
              "<Figure size 600x400 with 1 Axes>"
            ],
            "image/png": "[encoded data removed]"
          },
          "metadata": {}
        },
        {
          "output_type": "display_data",
          "data": {
            "text/plain": [
              "<Figure size 600x400 with 1 Axes>"
            ],
            "image/png": "[encoded data removed]"
          },
          "metadata": {}
        }
      ]
    }
  ],
  "metadata": {
    "colab": {
      "provenance": [],
      "collapsed_sections": [
        "Jg-9ZQAfjIKd",
        "XY-dVW72jUsD",
        "OdRYMuFHjBcO",
        "sgUmOj-pg27a",
        "bd0gkJGubdet",
        "TYE6poHuFTvl",
        "sTsUXOLE0Ym9",
        "HSpGm1hvCKlN",
        "G6s6x3b3JXMP",
        "DS_DOVCSEzRn",
        "eshqC40WO1D7"
      ],
      "authorship_tag": "ABX9TyNQR4UtLqDrhrmG4i30ORZV",
      "include_colab_link": true
    },
    "kernelspec": {
      "display_name": "Python 3",
      "name": "python3"
    },
    "language_info": {
      "name": "python"
    }
  },
  "nbformat": 4,
  "nbformat_minor": 0
}